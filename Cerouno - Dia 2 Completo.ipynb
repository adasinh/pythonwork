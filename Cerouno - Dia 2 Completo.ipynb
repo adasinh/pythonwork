{
 "cells": [
  {
   "cell_type": "markdown",
   "metadata": {},
   "source": [
    "# Introducción a Jupyter \n",
    "\n",
    "## ¿Qué es? \n",
    "\n",
    "Es una un ambiente diseñado para ejectuar código y realizar anotaciones en el mismo documento. \n",
    "\n",
    "Surge de la interacción de tres leguajes principales: JUlia, PYThon y R, pero ahora tiene soporte para muchos otros ambientes, llamados kernels\n",
    "\n",
    "Funciona a base de celdas que contienen datos, ya sean textos o secciones de código que pueden ser evaluados de manera sencilla. "
   ]
  },
  {
   "cell_type": "markdown",
   "metadata": {},
   "source": [
    "## Paso uno: Simulación de un experimento simple\n",
    "\n",
    "\n",
    "Usaremos la librería numérica de Python NUMPY para la realización de muchas de nuestras simulaciones y, con el fin de comenzar a visualizar nuestros resultados, usaremos la librería MATPLOTLIB.PYPLOT\n",
    "\n",
    "\n",
    "## Generación de números pseudoaleatorios\n",
    "\n",
    "No existe simulación numérica totalmente correcta de números aleatorios mediante métodos matemáticos, pero dan muy buenos resultados\n",
    "\n",
    "En este caso usaremos la sección NUMPY.RANDOM para la generación de nuestros números aleatorios con ciertas distribuciones dadas.\n",
    "\n",
    "IMPORTANTE: ¡Siempre revisen la documentación de los comandos antes de utilizarlos!\n",
    "\n",
    "### Ejercicio 1:  Simulación del tiro de una moneda \n",
    "\n",
    "Simular el tiro de una moneda típica mediante el uso de las herramientas de Python\n",
    "\n",
    " - Imprimir la leyenda del resultado de nuestro experimento\n",
    " - Dependiendo del resultado, asignar el valor a una variable VAR de 1 en caso de ser CARA y -1 si es CRUZ.\n",
    "\n",
    "\n",
    "#### Solución propuesta \n",
    "\n",
    "Necesitamos el mismo tipo de distribución y un criterio para decidir como simular: El programa otorga el valor numérico de 1 $CA$ y -1 a $CR$ \n",
    "\n",
    "1.- ¿Cuál es nuestro experimento? Tirar una moneda al airde una sola vez \n",
    "\n",
    "2.- ¿Cuál es el espacio muestral? Definamos $CA$ y $CR$ como los eventos de que caigan cara y cruz, respectivamente, podemos definir que \n",
    "\n",
    "$$S=\\{ CA, CR \\}$$\n",
    "\n",
    "3.- ¿Cuál es su distribución? Sabemos que la probabilidad de nuestros eventos (si usamos una moneda dispareja) estan dadas por\n",
    "\n",
    "$$P(CA)=P(CR)=0.5$$\n",
    "\n"
   ]
  },
  {
   "cell_type": "code",
   "execution_count": 29,
   "metadata": {},
   "outputs": [
    {
     "name": "stdout",
     "output_type": "stream",
     "text": [
      "Numero pseudoaleatorio: 0.6713\n",
      "El tiro resulto en: Cara\n"
     ]
    }
   ],
   "source": [
    "\n",
    "# Simulación del tiro de una moneda común\n",
    "\n",
    "\n",
    "# Importamos la librería necesaria \n",
    "import numpy as np\n",
    "\n",
    "# Tiro de la moneda - Generador de números aleatorios uniformemente distribuidos entre 0 y 1 \n",
    "\n",
    "moneda=np.random.rand()\n",
    "\n",
    "# imprimamos del valor de nuestro número generado\n",
    "print('Numero pseudoaleatorio: '+str(round(moneda,4)))\n",
    "\n",
    "# Ortoguemos el valor a nuestra impresión \n",
    "\n",
    "if moneda>0.5:\n",
    "    val=1\n",
    "    print('El tiro resulto en: Cara')\n",
    "else :\n",
    "    val=-1\n",
    "    print('El tiro resulto en: Cruz')\n",
    "\n"
   ]
  },
  {
   "cell_type": "markdown",
   "metadata": {},
   "source": [
    "### Ejercicio 2.1 Múltiples tiros\n",
    "\n",
    "Simular N tiros de una moneda, donde cada uno de los tiros son independientes. Imprimir la cantidad de veces que se obtiene CARA, CRUZ y el cálculo de probabilidad para ambos eventos. Realizar el experimento para N=100, 1000, 10000, 10000. \n",
    "\n",
    "### Ejercicio 2.2 Caminata aleatoria\n",
    "\n",
    "Simularemos una caminata aleatoria unidimensional\n",
    " - Se realizarán N pasos, cada uno dependiendo del resultado del tiro de una moneda\n",
    " - Si la moneda cae en CARA se da un paso positivo\n",
    " - Si la moneda cae en CRUZ se da un paso Negativo\n",
    " \n",
    "¿En que punto terminaré?  Hagan múltiples intentos para N=100,1000, 1000, 100000\n",
    "\n"
   ]
  },
  {
   "cell_type": "code",
   "execution_count": 94,
   "metadata": {},
   "outputs": [
    {
     "name": "stdout",
     "output_type": "stream",
     "text": [
      "Once deleted, variables cannot be recovered. Proceed (y/[n])? y\n",
      "En la solución de 100 tiros de una moneda, se tuvieron 61 veces la cara y 39 cruz, obtieniendo que P(CA)=0.61 y P(CR)=0.39\n"
     ]
    }
   ],
   "source": [
    "%reset \n",
    "import numpy as np\n",
    "\n",
    "# Multiples tiros aleatorios\n",
    "\n",
    "#Número tiros a utilizar\n",
    "N=100\n",
    "\n",
    "monedas=np.random.rand(1,N)\n",
    "\n",
    "# ¿Cuántas monedas será cruz y cruz? \n",
    "\n",
    "CA=sum(sum(monedas>0.5))  # Número de caras\n",
    " \n",
    "CR=sum(sum(monedas<=0.5)) # Número de cruces\n",
    "\n",
    "#  Cálculo de probabilidades\n",
    "\n",
    "P_ca=CA/N \n",
    "\n",
    "P_cr=CR/N \n",
    "\n",
    "#Impresión de resultados \n",
    "\n",
    "print('En la solución de '+str(N)+' tiros de una moneda, se tuvieron '+str(CA)+' veces la cara y '+ str(CR)+' cruz, obtieniendo que P(CA)='+str(P_ca)+' y P(CR)='+str(P_cr))\n",
    "\n",
    "\n",
    "\n",
    "\n"
   ]
  },
  {
   "cell_type": "code",
   "execution_count": 96,
   "metadata": {},
   "outputs": [
    {
     "name": "stdout",
     "output_type": "stream",
     "text": [
      "Once deleted, variables cannot be recovered. Proceed (y/[n])? y\n",
      "La Distancia a la que me encuentro es -6\n"
     ]
    }
   ],
   "source": [
    "%reset\n",
    "import numpy as np\n",
    "\n",
    "#Caminata aleatoria 1D - Intento 1 \n",
    "\n",
    "#Número pasos a utilizar\n",
    "N=100\n",
    "\n",
    "#Posición inicial\n",
    "Dis=0\n",
    "\n",
    "for paso in range(1,N+1): # range(a,b) ofrece los números en el itervalo semiaberto [a,b), es decir, no incluye b \n",
    "    tiro=np.random.rand()\n",
    "    if tiro>0.5:\n",
    "        Dis=Dis+1\n",
    "    else :\n",
    "        Dis=Dis-1\n",
    "        \n",
    "print('La Distancia a la que me encuentro es '+str(Dis))\n",
    "\n"
   ]
  },
  {
   "cell_type": "code",
   "execution_count": 100,
   "metadata": {},
   "outputs": [
    {
     "name": "stdout",
     "output_type": "stream",
     "text": [
      "La Distancia a la que me encuentro es 8\n"
     ]
    }
   ],
   "source": [
    "%reset\n",
    "import numpy as np\n",
    "\n",
    "# Caminata aleatoria 1D - Intento 2\n",
    "\n",
    "#Número tiros a utilizar\n",
    "N=100\n",
    "\n",
    "monedas=np.random.rand(1,N)\n",
    "\n",
    "# ¿Cuántas monedas será cruz y cruz? \n",
    "\n",
    "CA=sum(sum(monedas>0.5))  # Número de caras\n",
    "CR=sum(sum(monedas<=0.5)) # Número de cruces\n",
    "\n",
    "#Asignación del tamaño\n",
    "    \n",
    "paso_ca=1                 #Tamaño del paso para CA\n",
    "paso_cr=-1                #Tamaño del paso para CR \n",
    "\n",
    "Dis= paso_ca*CA+paso_cr*CR\n",
    "\n",
    "print('La Distancia a la que me encuentro es '+str(Dis))\n"
   ]
  },
  {
   "cell_type": "code",
   "execution_count": 98,
   "metadata": {},
   "outputs": [
    {
     "name": "stdout",
     "output_type": "stream",
     "text": [
      "Once deleted, variables cannot be recovered. Proceed (y/[n])? y\n",
      "-0.206\n",
      "10.107104629912564\n",
      "0.0\n"
     ]
    }
   ],
   "source": [
    "%reset\n",
    "import numpy as np\n",
    "# Caminata aleatoria - Datos estádisticos\n",
    "\n",
    "#Numero de intentos totales \n",
    "NN=2000\n",
    "dis=np.zeros(2000)\n",
    "\n",
    "for intento in range(2000):\n",
    "\n",
    "    #Número tiros a utilizar\n",
    "    N=100\n",
    "\n",
    "    monedas=np.random.rand(1,N)\n",
    "\n",
    "    # ¿Cuántas monedas será cruz y cruz? \n",
    "\n",
    "    CA=sum(sum(monedas>0.5))  # Número de caras\n",
    "\n",
    "    CR=sum(sum(monedas<=0.5)) # Número de cruces\n",
    "\n",
    "\n",
    "    paso_ca=1\n",
    "    paso_cr=-1\n",
    "\n",
    "    dis[intento]= paso_ca*CA+paso_cr*CR\n",
    "\n",
    "print(np.mean(dis))\n",
    "print(np.std(dis))\n",
    "print(np.median(dis))\n",
    "print(max(dis)-min(dis))\n",
    "print(max(dis))\n",
    "print(min(dis))"
   ]
  },
  {
   "cell_type": "code",
   "execution_count": null,
   "metadata": {},
   "outputs": [],
   "source": []
  },
  {
   "cell_type": "code",
   "execution_count": null,
   "metadata": {},
   "outputs": [],
   "source": []
  }
 ],
 "metadata": {
  "kernelspec": {
   "display_name": "Python 3",
   "language": "python",
   "name": "python3"
  },
  "language_info": {
   "codemirror_mode": {
    "name": "ipython",
    "version": 3
   },
   "file_extension": ".py",
   "mimetype": "text/x-python",
   "name": "python",
   "nbconvert_exporter": "python",
   "pygments_lexer": "ipython3",
   "version": "3.6.6"
  }
 },
 "nbformat": 4,
 "nbformat_minor": 2
}
