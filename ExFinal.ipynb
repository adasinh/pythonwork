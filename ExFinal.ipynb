{
 "cells": [
  {
   "cell_type": "markdown",
   "metadata": {},
   "source": [
    "# Examen Final - Mortalidad Materna\n",
    "\n",
    "## Introducción \n",
    "\n",
    "La base de datos contiene información de los casos de defunción relacionados con la mortalidad materna, esta información es pública. \n",
    "\n",
    "\n",
    "## Reglas\n",
    " - Tendrán 3 horas para la realización del examen. \n",
    " - En cualquier momento, las alumnas podrán tomarse un descanso para ir al baño o para tomar café. En ningún momento se podrá conversar con sus compañeras. \n",
    " - Pueden usar sus códigos y recursos en línea. \n",
    " - No pueden trabajar en equipo. \n",
    " - El resultado de esta evaluación es puramente para encontrar áres de oportunidad en la forma de trabajo de CEROUNO. La calificación obtenida no pone en juego de ninguna manera la permanencia en el programa. \n",
    " - No se podrá ofrecer ayuda por parte del mentor y del asistente de clase para la solución del examen. Las únicas dudas que podrán ser respondidas son las pertinentes a los secretos del universo.\n",
    " \n",
    "## Parte 1 - Presentación ( 5 puntos )\n",
    " \n",
    "Presenta tus resultados en una libreta de Jupyter de manera clara y concisa. Deberás explicar tu método de resolución, el algoritmo, las gráficas y/o DataFrame final y las conclusiones.\n",
    "\n",
    "## Parte 2 - Preámbulo ( 5 puntos )\n",
    "\n",
    "Presenta todo lo necesario para comenzar tu análisis de la información. Todo deberá estar comentado para que el usuario final y puede ser entendido."
   ]
  },
  {
   "cell_type": "markdown",
   "metadata": {},
   "source": [
    "   ## Parte 3 - Análisis inicial (20 puntos)\n",
    "\n",
    "- Nombre de los encabezados \n",
    "- Muestra un DataFrame que contenga: Edad cumplida, Descripción del estado conyugal, Tamaño de localidad, Localidad de ocurrencia, Descripción de la localidad de ocurrencia\n",
    "- ¿Cuántas edades diferentes tenían las madres cuando fallecieron? Obten los estadísticos para esta columna y los valores de las edades diferentes. \n",
    "- Imprime los valores de los años de defunción ¿ Existen datos que son lógicos, es decir, están correctos? \n",
    "- ¿Cuántos tipos de escolaridad existen? ¿Hay datos innecesarios o equivocados en la base de datos? \n",
    "- ¿Qué entidad tiene mayor número muertes? \n"
   ]
  },
  {
   "cell_type": "code",
   "execution_count": 1,
   "metadata": {},
   "outputs": [
    {
     "name": "stdout",
     "output_type": "stream",
     "text": [
      "Año de nacimiento                                   17232\n",
      "Mes de nacimiento                                   17232\n",
      "Descripción del mes de nacimiento                   17232\n",
      "Día de nacimiento                                   17232\n",
      "Genero                                              17232\n",
      "Clave de la edad                                    17232\n",
      "Edad cumplida                                       17232\n",
      "Estado conyugal                                     17232\n",
      "Descripción del estado conyugal                     17232\n",
      "Entidad de residencia                               17232\n",
      "Descripción de entidad de residencia                17232\n",
      "Municipio de residencia                             17232\n",
      "Descripción del municipio de residencia             17232\n",
      "Localidad de residencia                             17232\n",
      "Descripión de la localidad de residencia            17232\n",
      "Tamaño de localidad                                 17232\n",
      "Descripción del tamaño de localidad                 17232\n",
      "Ocupación habitual                                  17232\n",
      "Descripción de la ocupación habitual                17145\n",
      "Escolaridad                                         17232\n",
      "Descripción de la escolaridad                       17232\n",
      "Derechiahabiencia                                   17232\n",
      "Descrición de la derechiahabiencia                  17232\n",
      "Entidad de ocurrencia                               17232\n",
      "Descripción de la entidad de ocurrencia             17232\n",
      "Municipio de ocurrencia                             17232\n",
      "Descrición del municipio de ocurrencia              17232\n",
      "Localidad de ocurrencia                             17232\n",
      "Descrición de la localidad de ocurrencia            17232\n",
      "Sitio donde ocurrio la defunción                    17232\n",
      "Descripción del sitio donde ocurrio la defunción    17232\n",
      "Año de la defunción                                 17232\n",
      "Mes de la defunción                                 17232\n",
      "Descrición del mes de la defunción                  17232\n",
      "Día de la defunción                                 17232\n",
      "Hora de la defunción                                17232\n",
      "Minutos de la defunción                             17232\n",
      "Asistencia médica                                   17232\n",
      "Descripción de la asistencia médica                 17232\n",
      "Causa CIE a  cuarto dígito                          17232\n",
      "Descrición de la causa CIE                          17232\n",
      "Quien certificó                                     17232\n",
      "Descrición de quien certificó                       17232\n",
      "Entidad de registro                                 17232\n",
      "Descrición de la entidad de registro                17232\n",
      "Municipio de registro                               17232\n",
      "Descrición del municipio de registro                17232\n",
      "Año de registro                                     17232\n",
      "Mes de registro                                     17232\n",
      "Descripción del mes de registro                     17232\n",
      "Día de registro                                     17232\n",
      "Año de la certificación                             14535\n",
      "Mes de la certificación                             17232\n",
      "Descripció del mes de la certificación              17232\n",
      "Día de la certificación                             14535\n",
      "Año de la base de datos                             17232\n",
      "Razón de mortalidad materna                         17232\n",
      "Descrición de la razón de mortalidad materna        17232\n",
      "dtype: int64\n",
      "290\n"
     ]
    }
   ],
   "source": [
    "#Importar librerias necesarias\n",
    "import numpy as np\n",
    "import matplotlib.pyplot as plt\n",
    "import pandas as pd\n",
    "\n",
    "#PRIMER PASO:IMPORTAR Y VER DATOS\n",
    "#Usare pandas para leer la lista\n",
    "\n",
    "bdmor = pd.read_csv(r\"C:\\Users\\Ada Martinez\\cerouno\\S2\\mor.csv\")\n",
    "\n",
    "#METODO DATAFRAME\n",
    "pd.DataFrame(bdmor)\n",
    "\n",
    "#Nombra los encabezados\n",
    "#bdmor.head()\n",
    "print(bdmor.count())\n",
    "print(bdmor.head().size)"
   ]
  },
  {
   "cell_type": "code",
   "execution_count": 2,
   "metadata": {},
   "outputs": [
    {
     "name": "stdout",
     "output_type": "stream",
     "text": [
      "Edad cumplida                               17232\n",
      "Descripción del estado conyugal             17232\n",
      "Tamaño de localidad                         17232\n",
      "Localidad de ocurrencia                     17232\n",
      "Descrición de la localidad de ocurrencia    17232\n",
      "dtype: int64\n"
     ]
    }
   ],
   "source": [
    "#Dataframe de solo: Edad cumplida, Descripción del estado conyugal, Tamaño de localidad, Localidad de ocurrencia, Descripción de la localidad de ocurrencia\n",
    "bdmor2=bdmor[['Edad cumplida','Descripción del estado conyugal','Tamaño de localidad','Localidad de ocurrencia','Descrición de la localidad de ocurrencia']]\n",
    "print(bdmor2.count())"
   ]
  },
  {
   "cell_type": "code",
   "execution_count": 3,
   "metadata": {},
   "outputs": [
    {
     "name": "stdout",
     "output_type": "stream",
     "text": [
      "50\n",
      "[ 29  35  36  30  20  27  43  31  39  45  42  17  38  26  21  22  40  44\n",
      "  34  41  33  13  24  25  37  19  23  32  28 998  15  46  48  16  18  12\n",
      "  47  14  51  50  54  49  11  53  81  70  82  59  86  65]\n"
     ]
    }
   ],
   "source": [
    "#Edades diferentes de las mamas cuando fallecieron, cuantas son y cuales\n",
    "print(len(bdmor['Edad cumplida'].unique()))\n",
    "print(bdmor['Edad cumplida'].unique())"
   ]
  },
  {
   "cell_type": "code",
   "execution_count": 4,
   "metadata": {},
   "outputs": [
    {
     "name": "stdout",
     "output_type": "stream",
     "text": [
      "Media: 29.765726555246054\n",
      "Mediana: 28.0\n",
      "Moda: 0    23\n",
      "1    30\n",
      "dtype: int64\n"
     ]
    }
   ],
   "source": [
    "#Estadisticos de la columna\n",
    "print ('Media: ' + str(bdmor['Edad cumplida'].mean()))\n",
    "print ('Mediana: ' + str(bdmor['Edad cumplida'].median()))\n",
    "print ('Moda: ' + str(bdmor['Edad cumplida'].mode()))"
   ]
  },
  {
   "cell_type": "code",
   "execution_count": 5,
   "metadata": {},
   "outputs": [
    {
     "name": "stdout",
     "output_type": "stream",
     "text": [
      "[2002 2005 2003 2008 2013 2012 2009 2010 2011 2004 2006 2007 2001 1979\n",
      " 1989 1974 1964 1982 1959 1990 1980 1994 1977 1976 1938 1970 1949 1997\n",
      " 1956 1961 1957 1985 1975 2000    0 1948 1971 1978 1984 1993 1992 1972\n",
      " 1973 1986 1988 1937 1965 1944 1987 1943 1958 1967 1968 1995 1991 1969\n",
      " 1999 1966 1963 1953 1954 1962 1950 1996 2014 2015 1914 1951 2016]\n"
     ]
    }
   ],
   "source": [
    "#Imprime los valores de los annos de la defuncion\n",
    "print(bdmor['Año de la defunción'].unique())\n",
    "#print(bdmor['Año de nacimiento'].unique())\n",
    "#bdmor[bdmor['Año de la defunción']==0]\n",
    "\n",
    "#No todos los datos estan correctos pues hay edad cumplida con valores de cero\n",
    "#y tambien año de nacimiento con valores de cero."
   ]
  },
  {
   "cell_type": "code",
   "execution_count": 6,
   "metadata": {},
   "outputs": [
    {
     "name": "stdout",
     "output_type": "stream",
     "text": [
      "11\n"
     ]
    }
   ],
   "source": [
    "#Tipos de escolaridad que existen\n",
    "print(len(bdmor.Escolaridad.unique()))\n",
    "\n",
    "#Si hay datos equivocados o vacios en la base de datos, habrá qeu filrarla."
   ]
  },
  {
   "cell_type": "code",
   "execution_count": 7,
   "metadata": {},
   "outputs": [
    {
     "data": {
      "text/plain": [
       "15"
      ]
     },
     "execution_count": 7,
     "metadata": {},
     "output_type": "execute_result"
    }
   ],
   "source": [
    "#Entidad que tiene mayor numero de muertes\n",
    "#print(bdmor['Entidad de residencia'].unique())\n",
    "#print(bdmor.groupby('Entidad de residencia')['Entidad de residencia'].count())\n",
    "bdmor.groupby('Entidad de residencia')['Entidad de residencia'].count().idxmax()"
   ]
  },
  {
   "cell_type": "markdown",
   "metadata": {},
   "source": [
    " ## Parte 4 - Búsqueda de datos (25 puntos + 5 puntos extra )\n",
    " \n",
    "Imprime 2 DataFrames que sinteticen cierta información. Estos DataFrames deberán estar explicados con el contexto y el razón de porque son relevantes. Imprime solo el encabezado. \n",
    "\n",
    "Puntos extra: Entrega un análisis simple de cada DataFrame"
   ]
  },
  {
   "cell_type": "markdown",
   "metadata": {},
   "source": [
    "**Este primer data frame tiene la edad, el estado conyugal, la localidad donde sucedio y el tamaño.\n",
    "Esto me puede aayudar a decir en que ciudad hay mas muertes, de que edades y si las afectadas eran casadas o no.\n",
    "Serviria para tomar acciones de prevencion en esas zonas.\n",
    "**"
   ]
  },
  {
   "cell_type": "code",
   "execution_count": 8,
   "metadata": {},
   "outputs": [
    {
     "data": {
      "text/html": [
       "<div>\n",
       "<style scoped>\n",
       "    .dataframe tbody tr th:only-of-type {\n",
       "        vertical-align: middle;\n",
       "    }\n",
       "\n",
       "    .dataframe tbody tr th {\n",
       "        vertical-align: top;\n",
       "    }\n",
       "\n",
       "    .dataframe thead th {\n",
       "        text-align: right;\n",
       "    }\n",
       "</style>\n",
       "<table border=\"1\" class=\"dataframe\">\n",
       "  <thead>\n",
       "    <tr style=\"text-align: right;\">\n",
       "      <th></th>\n",
       "      <th>Edad cumplida</th>\n",
       "      <th>Descripción del estado conyugal</th>\n",
       "      <th>Tamaño de localidad</th>\n",
       "      <th>Localidad de ocurrencia</th>\n",
       "      <th>Descrición de la localidad de ocurrencia</th>\n",
       "    </tr>\n",
       "  </thead>\n",
       "  <tbody>\n",
       "    <tr>\n",
       "      <th>0</th>\n",
       "      <td>29</td>\n",
       "      <td>CASADO</td>\n",
       "      <td>9</td>\n",
       "      <td>1</td>\n",
       "      <td>311020001 Valladolid</td>\n",
       "    </tr>\n",
       "    <tr>\n",
       "      <th>1</th>\n",
       "      <td>35</td>\n",
       "      <td>CASADO</td>\n",
       "      <td>9</td>\n",
       "      <td>1</td>\n",
       "      <td>310500001 Mérida</td>\n",
       "    </tr>\n",
       "    <tr>\n",
       "      <th>2</th>\n",
       "      <td>29</td>\n",
       "      <td>CASADO</td>\n",
       "      <td>4</td>\n",
       "      <td>1</td>\n",
       "      <td>310560001 Oxkutzcab</td>\n",
       "    </tr>\n",
       "    <tr>\n",
       "      <th>3</th>\n",
       "      <td>36</td>\n",
       "      <td>CASADO</td>\n",
       "      <td>1</td>\n",
       "      <td>1</td>\n",
       "      <td>310500001 Mérida</td>\n",
       "    </tr>\n",
       "    <tr>\n",
       "      <th>4</th>\n",
       "      <td>30</td>\n",
       "      <td>CASADO</td>\n",
       "      <td>0</td>\n",
       "      <td>0</td>\n",
       "      <td>090160000 No especificado</td>\n",
       "    </tr>\n",
       "  </tbody>\n",
       "</table>\n",
       "</div>"
      ],
      "text/plain": [
       "   Edad cumplida Descripción del estado conyugal  Tamaño de localidad  \\\n",
       "0             29                          CASADO                    9   \n",
       "1             35                          CASADO                    9   \n",
       "2             29                          CASADO                    4   \n",
       "3             36                          CASADO                    1   \n",
       "4             30                          CASADO                    0   \n",
       "\n",
       "   Localidad de ocurrencia Descrición de la localidad de ocurrencia  \n",
       "0                        1                     311020001 Valladolid  \n",
       "1                        1                         310500001 Mérida  \n",
       "2                        1                      310560001 Oxkutzcab  \n",
       "3                        1                         310500001 Mérida  \n",
       "4                        0                090160000 No especificado  "
      ]
     },
     "execution_count": 8,
     "metadata": {},
     "output_type": "execute_result"
    }
   ],
   "source": [
    "#Creacion de 2 Dataframes\n",
    "#Este es el primero\n",
    "bdfmor1=bdmor[['Edad cumplida','Descripción del estado conyugal','Tamaño de localidad','Localidad de ocurrencia','Descrición de la localidad de ocurrencia']]\n",
    "bdfmor1.head()\n"
   ]
  },
  {
   "cell_type": "markdown",
   "metadata": {},
   "source": [
    "**Este seria el segundo data frame que conserva la edad y el estado conyugal, pero se quita la localidad para estudiar ahora las razones de la muerte, analizado la causa CIE y la Descipcion de la razon.\n",
    "Asi se pudiera prevenir todas las posibles causas sobre todo las de mayor ocurrencia.**"
   ]
  },
  {
   "cell_type": "code",
   "execution_count": 9,
   "metadata": {},
   "outputs": [
    {
     "data": {
      "text/html": [
       "<div>\n",
       "<style scoped>\n",
       "    .dataframe tbody tr th:only-of-type {\n",
       "        vertical-align: middle;\n",
       "    }\n",
       "\n",
       "    .dataframe tbody tr th {\n",
       "        vertical-align: top;\n",
       "    }\n",
       "\n",
       "    .dataframe thead th {\n",
       "        text-align: right;\n",
       "    }\n",
       "</style>\n",
       "<table border=\"1\" class=\"dataframe\">\n",
       "  <thead>\n",
       "    <tr style=\"text-align: right;\">\n",
       "      <th></th>\n",
       "      <th>Edad cumplida</th>\n",
       "      <th>Descripción del estado conyugal</th>\n",
       "      <th>Causa CIE a  cuarto dígito</th>\n",
       "      <th>Descrición de la causa CIE</th>\n",
       "      <th>Razón de mortalidad materna</th>\n",
       "      <th>Descrición de la razón de mortalidad materna</th>\n",
       "    </tr>\n",
       "  </thead>\n",
       "  <tbody>\n",
       "    <tr>\n",
       "      <th>0</th>\n",
       "      <td>29</td>\n",
       "      <td>CASADO</td>\n",
       "      <td>O994</td>\n",
       "      <td>O994  Enfermedades del sistema circulatorio qu...</td>\n",
       "      <td>1</td>\n",
       "      <td>Muertes Maternas para la razón de Mortalidad M...</td>\n",
       "    </tr>\n",
       "    <tr>\n",
       "      <th>1</th>\n",
       "      <td>35</td>\n",
       "      <td>CASADO</td>\n",
       "      <td>O141</td>\n",
       "      <td>O141  Preeclampsia severa</td>\n",
       "      <td>1</td>\n",
       "      <td>Muertes Maternas para la razón de Mortalidad M...</td>\n",
       "    </tr>\n",
       "    <tr>\n",
       "      <th>2</th>\n",
       "      <td>29</td>\n",
       "      <td>CASADO</td>\n",
       "      <td>O159</td>\n",
       "      <td>O159  Eclampsia, en período no especificado</td>\n",
       "      <td>1</td>\n",
       "      <td>Muertes Maternas para la razón de Mortalidad M...</td>\n",
       "    </tr>\n",
       "    <tr>\n",
       "      <th>3</th>\n",
       "      <td>36</td>\n",
       "      <td>CASADO</td>\n",
       "      <td>O159</td>\n",
       "      <td>O159  Eclampsia, en período no especificado</td>\n",
       "      <td>1</td>\n",
       "      <td>Muertes Maternas para la razón de Mortalidad M...</td>\n",
       "    </tr>\n",
       "    <tr>\n",
       "      <th>4</th>\n",
       "      <td>30</td>\n",
       "      <td>CASADO</td>\n",
       "      <td>O266</td>\n",
       "      <td>O266  Trastornos del hígado en el embarazo, el...</td>\n",
       "      <td>1</td>\n",
       "      <td>Muertes Maternas para la razón de Mortalidad M...</td>\n",
       "    </tr>\n",
       "  </tbody>\n",
       "</table>\n",
       "</div>"
      ],
      "text/plain": [
       "   Edad cumplida Descripción del estado conyugal Causa CIE a  cuarto dígito  \\\n",
       "0             29                          CASADO                       O994   \n",
       "1             35                          CASADO                       O141   \n",
       "2             29                          CASADO                       O159   \n",
       "3             36                          CASADO                       O159   \n",
       "4             30                          CASADO                       O266   \n",
       "\n",
       "                          Descrición de la causa CIE  \\\n",
       "0  O994  Enfermedades del sistema circulatorio qu...   \n",
       "1                          O141  Preeclampsia severa   \n",
       "2        O159  Eclampsia, en período no especificado   \n",
       "3        O159  Eclampsia, en período no especificado   \n",
       "4  O266  Trastornos del hígado en el embarazo, el...   \n",
       "\n",
       "   Razón de mortalidad materna  \\\n",
       "0                            1   \n",
       "1                            1   \n",
       "2                            1   \n",
       "3                            1   \n",
       "4                            1   \n",
       "\n",
       "        Descrición de la razón de mortalidad materna  \n",
       "0  Muertes Maternas para la razón de Mortalidad M...  \n",
       "1  Muertes Maternas para la razón de Mortalidad M...  \n",
       "2  Muertes Maternas para la razón de Mortalidad M...  \n",
       "3  Muertes Maternas para la razón de Mortalidad M...  \n",
       "4  Muertes Maternas para la razón de Mortalidad M...  "
      ]
     },
     "execution_count": 9,
     "metadata": {},
     "output_type": "execute_result"
    }
   ],
   "source": [
    "bdfmor2=bdmor[['Edad cumplida','Descripción del estado conyugal','Causa CIE a  cuarto dígito','Descrición de la causa CIE','Razón de mortalidad materna', 'Descrición de la razón de mortalidad materna']]\n",
    "bdfmor2.head()"
   ]
  },
  {
   "cell_type": "markdown",
   "metadata": {},
   "source": [
    " ## Parte 5 - Información gráfica (40 puntos + 20 puntos extra)\n",
    "\n",
    "- Realiza un analísis utilizando una gráfica de línea\n",
    "\n",
    "- Realiza un análisis de la relación entre dos variables. \n",
    "\n",
    "- Realizar un análisis donde se necesite usar histogramas. \n",
    "\n",
    "- Presenta un análisis utilizando una gráfica de barras de los indicadores para múltiples paises. (PUNTOS EXTRA) \n",
    "\n",
    "- Realicen una análisis de correlación para 4 variables (PUNTOS EXTRA) (¿Scatter or density?)\n"
   ]
  },
  {
   "cell_type": "code",
   "execution_count": 10,
   "metadata": {},
   "outputs": [
    {
     "name": "stdout",
     "output_type": "stream",
     "text": [
      "[ 29  35  36  30  20  27  43  31  39  45  42  17  38  26  21  22  40  44\n",
      "  34  41  33  13  24  25  37  19  23  32  28 998  15  46  48  16  18  12\n",
      "  47  14  51  50  54  49  11  53  81  70  82  59  86  65]\n"
     ]
    },
    {
     "data": {
      "text/plain": [
       "Text(0.5,1,'Edades en que hay mas muertes')"
      ]
     },
     "execution_count": 10,
     "metadata": {},
     "output_type": "execute_result"
    },
    {
     "data": {
      "image/png": "[encoded data removed]",
      "text/plain": [
       "<Figure size 432x288 with 1 Axes>"
      ]
     },
     "metadata": {
      "needs_background": "light"
     },
     "output_type": "display_data"
    }
   ],
   "source": [
    "#Grafica de linea, edades vs muertes\n",
    "#print(bdfmor1['Edad cumplida'])\n",
    "#Grafica de linea, edades vs muertes\n",
    "print(bdfmor1['Edad cumplida'].unique())\n",
    "#print(bdfmor1[bdfmor1['Edad cumplida']!=998].count())\n",
    "#bdfmor1.set_index('Edad cumplida').plot(kind='bars')\n",
    "bdfmor1.set_index(bdfmor1['Edad cumplida']!=998).plot(kind='line')\n",
    "plt.xlabel('Edades')\n",
    "plt.ylabel('Muertes')\n",
    "plt.title('Edades en que hay mas muertes')\n",
    "#plt.show()"
   ]
  },
  {
   "cell_type": "code",
   "execution_count": null,
   "metadata": {},
   "outputs": [],
   "source": []
  }
 ],
 "metadata": {
  "kernelspec": {
   "display_name": "Python 3",
   "language": "python",
   "name": "python3"
  },
  "language_info": {
   "codemirror_mode": {
    "name": "ipython",
    "version": 3
   },
   "file_extension": ".py",
   "mimetype": "text/x-python",
   "name": "python",
   "nbconvert_exporter": "python",
   "pygments_lexer": "ipython3",
   "version": "3.7.0"
  }
 },
 "nbformat": 4,
 "nbformat_minor": 2
}
